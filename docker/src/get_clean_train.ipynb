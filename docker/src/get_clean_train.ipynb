{
 "cells": [
  {
   "cell_type": "markdown",
   "id": "f86591bc-6400-4812-a3a5-238283b81bc3",
   "metadata": {},
   "source": [
    "# Importar librerías"
   ]
  },
  {
   "cell_type": "code",
   "execution_count": 1,
   "id": "70e08457-a8b0-41f6-88a8-0a029eb0677c",
   "metadata": {},
   "outputs": [],
   "source": [
    "import os\n",
    "import requests\n",
    "import pandas as pd"
   ]
  },
  {
   "cell_type": "code",
   "execution_count": 2,
   "id": "131f9626-025f-4512-99f9-6a10e683dc28",
   "metadata": {},
   "outputs": [],
   "source": [
    "from sklearn.preprocessing import LabelEncoder\n",
    "\n",
    "le = LabelEncoder()"
   ]
  },
  {
   "cell_type": "code",
   "execution_count": 3,
   "id": "43baace7-15a3-49df-a15b-ce89df58d6c8",
   "metadata": {},
   "outputs": [],
   "source": [
    "from sklearn.model_selection import train_test_split\n",
    "from sklearn.tree import DecisionTreeRegressor"
   ]
  },
  {
   "cell_type": "code",
   "execution_count": 4,
   "id": "51557651-df19-4c31-a7cf-6d5030d0764b",
   "metadata": {},
   "outputs": [],
   "source": [
    "import pickle"
   ]
  },
  {
   "cell_type": "markdown",
   "id": "6ee08f25-8b97-4414-8793-999c9296c73f",
   "metadata": {},
   "source": [
    "# Crear directorio\n",
    "\n",
    "En este directorio se guardará el dataset obtenido."
   ]
  },
  {
   "cell_type": "code",
   "execution_count": 5,
   "id": "355fc95a-7016-4a01-ada9-dadd0c63f1c5",
   "metadata": {},
   "outputs": [
    {
     "name": "stdout",
     "output_type": "stream",
     "text": [
      "g:\\Proyectos_Github\\fuel-predict\\docker\n",
      "El directorio dataset en: g:\\Proyectos_Github\\fuel-predict\\docker ya existe.\n"
     ]
    }
   ],
   "source": [
    "directory = \"dataset\"\n",
    "parent_dir = os.path.abspath(os.path.join(os.getcwd(), \"..\"))\n",
    "print(parent_dir)\n",
    "\n",
    "path = os.path.join(parent_dir, directory)\n",
    "\n",
    "try:\n",
    "    os.mkdir(path)\n",
    "    print(f\"Se ha creado el directorio {directory} en: {parent_dir}\")\n",
    "except OSError as error:\n",
    "    print(f\"El directorio {directory} en: {parent_dir} ya existe.\")"
   ]
  },
  {
   "cell_type": "markdown",
   "id": "085f6276-ece1-4e32-8d85-b001fb7cfe3c",
   "metadata": {},
   "source": [
    "# Obtención del dataset\n",
    "\n",
    "Es equivalente a lo siguiente: `$.result.results[0].resources[1].url`\n",
    "\n",
    "Donde `[1]` es para el csv y `[2]` para el json. Para trabajar con pandas prefiero el csv."
   ]
  },
  {
   "cell_type": "code",
   "execution_count": 6,
   "id": "04b19e13-1def-4653-85b2-88d3039eed16",
   "metadata": {},
   "outputs": [
    {
     "name": "stdout",
     "output_type": "stream",
     "text": [
      "Descargados los datos para el año 2016.\n",
      "Descargados los datos para el año 2017.\n",
      "Descargados los datos para el año 2018.\n",
      "Descargados los datos para el año 2019.\n",
      "Descargados los datos para el año 2020.\n",
      "Descargados los datos para el año 2021.\n",
      "Descargados los datos para el año 2022.\n",
      "Descargados los datos para el año 2023.\n",
      "Descargados los datos para el año 2024.\n",
      "Descargados los datos para el año 2025.\n",
      "No hay más datos que descargar.\n"
     ]
    }
   ],
   "source": [
    "header = {\"User-Agent\": \"Application\"}\n",
    "dataset = \"raw_dataset.csv\"\n",
    "csv_path = os.path.join(path, dataset)\n",
    "year = 2016\n",
    "\n",
    "while True:\n",
    "    url = f\"https://catalogodatos.cnmc.es/api/3/action/package_search?q=Precios%20diarios%20provinciales%20-%20{year}%20-\"\n",
    "    r = requests.get(url, headers=header)\n",
    "\n",
    "    if r.status_code == 200:\n",
    "        data_catalog = r.json()\n",
    "    \n",
    "        if data_catalog[\"result\"][\"results\"]:\n",
    "            id_resource = data_catalog[\"result\"][\"results\"][0][\"resources\"][1][\"url\"]\n",
    "            downloaded_file = requests.get(id_resource)\n",
    "    \n",
    "            with open(csv_path, \"ab\") as f:\n",
    "                f.write(downloaded_file.content)\n",
    "    \n",
    "            print(f\"Descargados los datos para el año {year}.\")\n",
    "            year += 1\n",
    "        else:\n",
    "            print(\"No hay más datos que descargar.\")\n",
    "            break\n",
    "    else:\n",
    "        print(f\"No ha podido procesarse la solicitud. Código: {r.status_code}\")\n",
    "        break"
   ]
  },
  {
   "cell_type": "markdown",
   "id": "9ac76c29-8fa9-4189-900d-84c01c020fe5",
   "metadata": {},
   "source": [
    "# Dataframe"
   ]
  },
  {
   "cell_type": "markdown",
   "id": "ca71340c-6dd1-46fd-ab54-d9a65e738f88",
   "metadata": {},
   "source": [
    "## Lectura y visualizado"
   ]
  },
  {
   "cell_type": "code",
   "execution_count": 7,
   "id": "23407674-3f81-4b01-bc2d-76d9ad0499a4",
   "metadata": {},
   "outputs": [
    {
     "data": {
      "text/html": [
       "<div>\n",
       "<style scoped>\n",
       "    .dataframe tbody tr th:only-of-type {\n",
       "        vertical-align: middle;\n",
       "    }\n",
       "\n",
       "    .dataframe tbody tr th {\n",
       "        vertical-align: top;\n",
       "    }\n",
       "\n",
       "    .dataframe thead th {\n",
       "        text-align: right;\n",
       "    }\n",
       "</style>\n",
       "<table border=\"1\" class=\"dataframe\">\n",
       "  <thead>\n",
       "    <tr style=\"text-align: right;\">\n",
       "      <th></th>\n",
       "      <th>Fecha Precio</th>\n",
       "      <th>Provincia</th>\n",
       "      <th>Producto</th>\n",
       "      <th>Promedio de Pai Diario CUBO €/litro</th>\n",
       "      <th>Promedio de Pvp Diario CUBO €/litro</th>\n",
       "    </tr>\n",
       "  </thead>\n",
       "  <tbody>\n",
       "    <tr>\n",
       "      <th>0</th>\n",
       "      <td>2016-01-01</td>\n",
       "      <td>Albacete</td>\n",
       "      <td>Gasolina 95 E5</td>\n",
       "      <td>0,482</td>\n",
       "      <td>1,155</td>\n",
       "    </tr>\n",
       "    <tr>\n",
       "      <th>1</th>\n",
       "      <td>2016-01-01</td>\n",
       "      <td>Albacete</td>\n",
       "      <td>Gasolina 98 E5</td>\n",
       "      <td>0,552</td>\n",
       "      <td>1,278</td>\n",
       "    </tr>\n",
       "    <tr>\n",
       "      <th>2</th>\n",
       "      <td>2016-01-01</td>\n",
       "      <td>Albacete</td>\n",
       "      <td>Gasóleo A habitual</td>\n",
       "      <td>0,441</td>\n",
       "      <td>0,993</td>\n",
       "    </tr>\n",
       "    <tr>\n",
       "      <th>3</th>\n",
       "      <td>2016-01-01</td>\n",
       "      <td>Albacete</td>\n",
       "      <td>Gasóleo Premium</td>\n",
       "      <td>0,504</td>\n",
       "      <td>1,069</td>\n",
       "    </tr>\n",
       "    <tr>\n",
       "      <th>4</th>\n",
       "      <td>2016-01-01</td>\n",
       "      <td>Alicante/Alacant</td>\n",
       "      <td>Gasolina 95 E5</td>\n",
       "      <td>0,483</td>\n",
       "      <td>1,157</td>\n",
       "    </tr>\n",
       "  </tbody>\n",
       "</table>\n",
       "</div>"
      ],
      "text/plain": [
       "  Fecha Precio         Provincia            Producto  \\\n",
       "0   2016-01-01          Albacete      Gasolina 95 E5   \n",
       "1   2016-01-01          Albacete      Gasolina 98 E5   \n",
       "2   2016-01-01          Albacete  Gasóleo A habitual   \n",
       "3   2016-01-01          Albacete     Gasóleo Premium   \n",
       "4   2016-01-01  Alicante/Alacant      Gasolina 95 E5   \n",
       "\n",
       "  Promedio de Pai Diario CUBO €/litro Promedio de Pvp Diario CUBO €/litro  \n",
       "0                               0,482                               1,155  \n",
       "1                               0,552                               1,278  \n",
       "2                               0,441                               0,993  \n",
       "3                               0,504                               1,069  \n",
       "4                               0,483                               1,157  "
      ]
     },
     "execution_count": 7,
     "metadata": {},
     "output_type": "execute_result"
    }
   ],
   "source": [
    "df_fuel = pd.read_csv(csv_path, delimiter=';')\n",
    "df_fuel.head()"
   ]
  },
  {
   "cell_type": "code",
   "execution_count": 8,
   "id": "51a742c8-f5ab-4c2b-9168-6be9822db3d2",
   "metadata": {},
   "outputs": [
    {
     "name": "stdout",
     "output_type": "stream",
     "text": [
      "Filas: 687040 | Columnas: 5\n"
     ]
    }
   ],
   "source": [
    "rows, cols = df_fuel.shape\n",
    "print(f\"Filas: {rows} | Columnas: {cols}\")"
   ]
  },
  {
   "cell_type": "markdown",
   "id": "4d0b8dce-bdbf-4bab-b577-660889072794",
   "metadata": {},
   "source": [
    "## Comprobación de nulos y tipo de datos"
   ]
  },
  {
   "cell_type": "code",
   "execution_count": 9,
   "id": "155422db-25e8-4e39-91c8-0d01c9d027ea",
   "metadata": {},
   "outputs": [
    {
     "data": {
      "text/plain": [
       "Fecha Precio                           0\n",
       "Provincia                              0\n",
       "Producto                               0\n",
       "Promedio de Pai Diario CUBO €/litro    0\n",
       "Promedio de Pvp Diario CUBO €/litro    0\n",
       "dtype: int64"
      ]
     },
     "execution_count": 9,
     "metadata": {},
     "output_type": "execute_result"
    }
   ],
   "source": [
    "df_fuel.isna().sum()"
   ]
  },
  {
   "cell_type": "markdown",
   "id": "863cd15c-57f8-4a56-b7d6-2d5c1cefd254",
   "metadata": {},
   "source": [
    "¡No hay nulos!"
   ]
  },
  {
   "cell_type": "code",
   "execution_count": 10,
   "id": "3e9a5329-d016-4b04-bd36-f31479d59430",
   "metadata": {},
   "outputs": [
    {
     "data": {
      "text/plain": [
       "Fecha Precio                           object\n",
       "Provincia                              object\n",
       "Producto                               object\n",
       "Promedio de Pai Diario CUBO €/litro    object\n",
       "Promedio de Pvp Diario CUBO €/litro    object\n",
       "dtype: object"
      ]
     },
     "execution_count": 10,
     "metadata": {},
     "output_type": "execute_result"
    }
   ],
   "source": [
    "df_fuel.dtypes"
   ]
  },
  {
   "cell_type": "markdown",
   "id": "1b93189d-d762-4f12-9e9b-4766cb0cf468",
   "metadata": {},
   "source": [
    "## Provincias\n",
    "\n",
    "Queremos saber qué provincias hay en el dataset:"
   ]
  },
  {
   "cell_type": "code",
   "execution_count": 11,
   "id": "c4055099-3651-4d00-b827-b6e9dae23952",
   "metadata": {},
   "outputs": [
    {
     "data": {
      "text/plain": [
       "array(['Albacete', 'Alicante/Alacant', 'Almería', 'Araba/Álava',\n",
       "       'Asturias', 'Ávila', 'Badajoz', 'Balears, Illes', 'Barcelona',\n",
       "       'Bizkaia', 'Burgos', 'Cáceres', 'Cádiz', 'Cantabria',\n",
       "       'Castellón/Castelló', 'Ceuta', 'Ciudad Real', 'Córdoba',\n",
       "       'Coruña, A', 'Cuenca', 'Gipuzkoa', 'Girona', 'Granada',\n",
       "       'Guadalajara', 'Huelva', 'Huesca', 'Jaén', 'León', 'Lleida',\n",
       "       'Lugo', 'Madrid', 'Málaga', 'Melilla', 'Murcia', 'Navarra',\n",
       "       'Ourense', 'Palencia', 'Palmas, Las', 'Pontevedra', 'Rioja, La',\n",
       "       'Salamanca', 'Santa Cruz de Tenerife', 'Segovia', 'Sevilla',\n",
       "       'Soria', 'Tarragona', 'Teruel', 'Toledo', 'Valencia/València',\n",
       "       'Valladolid', 'Zamora', 'Zaragoza', 'Provincia'], dtype=object)"
      ]
     },
     "execution_count": 11,
     "metadata": {},
     "output_type": "execute_result"
    }
   ],
   "source": [
    "df_fuel[\"Provincia\"].unique()"
   ]
  },
  {
   "cell_type": "markdown",
   "id": "a08033d7-ec17-4290-8886-82b1fd24a444",
   "metadata": {},
   "source": [
    "Aquí se usa LabelEncoder para pasar los valores categóricos de Provincia a numéricos, necesario para el entrenamiento del modelo:"
   ]
  },
  {
   "cell_type": "code",
   "execution_count": 12,
   "id": "6c7caf18-e6d5-4bb2-88f0-86b9a796c4b2",
   "metadata": {},
   "outputs": [],
   "source": [
    "df_fuel[\"num_provincia\"] = le.fit_transform(df_fuel[\"Provincia\"])"
   ]
  },
  {
   "cell_type": "code",
   "execution_count": 13,
   "id": "5879f51c-816a-43c9-975f-56be7cc6ab64",
   "metadata": {},
   "outputs": [
    {
     "data": {
      "text/html": [
       "<div>\n",
       "<style scoped>\n",
       "    .dataframe tbody tr th:only-of-type {\n",
       "        vertical-align: middle;\n",
       "    }\n",
       "\n",
       "    .dataframe tbody tr th {\n",
       "        vertical-align: top;\n",
       "    }\n",
       "\n",
       "    .dataframe thead th {\n",
       "        text-align: right;\n",
       "    }\n",
       "</style>\n",
       "<table border=\"1\" class=\"dataframe\">\n",
       "  <thead>\n",
       "    <tr style=\"text-align: right;\">\n",
       "      <th></th>\n",
       "      <th>Fecha Precio</th>\n",
       "      <th>Provincia</th>\n",
       "      <th>Producto</th>\n",
       "      <th>Promedio de Pai Diario CUBO €/litro</th>\n",
       "      <th>Promedio de Pvp Diario CUBO €/litro</th>\n",
       "      <th>num_provincia</th>\n",
       "    </tr>\n",
       "  </thead>\n",
       "  <tbody>\n",
       "    <tr>\n",
       "      <th>0</th>\n",
       "      <td>2016-01-01</td>\n",
       "      <td>Albacete</td>\n",
       "      <td>Gasolina 95 E5</td>\n",
       "      <td>0,482</td>\n",
       "      <td>1,155</td>\n",
       "      <td>0</td>\n",
       "    </tr>\n",
       "    <tr>\n",
       "      <th>1</th>\n",
       "      <td>2016-01-01</td>\n",
       "      <td>Albacete</td>\n",
       "      <td>Gasolina 98 E5</td>\n",
       "      <td>0,552</td>\n",
       "      <td>1,278</td>\n",
       "      <td>0</td>\n",
       "    </tr>\n",
       "    <tr>\n",
       "      <th>2</th>\n",
       "      <td>2016-01-01</td>\n",
       "      <td>Albacete</td>\n",
       "      <td>Gasóleo A habitual</td>\n",
       "      <td>0,441</td>\n",
       "      <td>0,993</td>\n",
       "      <td>0</td>\n",
       "    </tr>\n",
       "    <tr>\n",
       "      <th>3</th>\n",
       "      <td>2016-01-01</td>\n",
       "      <td>Albacete</td>\n",
       "      <td>Gasóleo Premium</td>\n",
       "      <td>0,504</td>\n",
       "      <td>1,069</td>\n",
       "      <td>0</td>\n",
       "    </tr>\n",
       "    <tr>\n",
       "      <th>4</th>\n",
       "      <td>2016-01-01</td>\n",
       "      <td>Alicante/Alacant</td>\n",
       "      <td>Gasolina 95 E5</td>\n",
       "      <td>0,483</td>\n",
       "      <td>1,157</td>\n",
       "      <td>1</td>\n",
       "    </tr>\n",
       "  </tbody>\n",
       "</table>\n",
       "</div>"
      ],
      "text/plain": [
       "  Fecha Precio         Provincia            Producto  \\\n",
       "0   2016-01-01          Albacete      Gasolina 95 E5   \n",
       "1   2016-01-01          Albacete      Gasolina 98 E5   \n",
       "2   2016-01-01          Albacete  Gasóleo A habitual   \n",
       "3   2016-01-01          Albacete     Gasóleo Premium   \n",
       "4   2016-01-01  Alicante/Alacant      Gasolina 95 E5   \n",
       "\n",
       "  Promedio de Pai Diario CUBO €/litro Promedio de Pvp Diario CUBO €/litro  \\\n",
       "0                               0,482                               1,155   \n",
       "1                               0,552                               1,278   \n",
       "2                               0,441                               0,993   \n",
       "3                               0,504                               1,069   \n",
       "4                               0,483                               1,157   \n",
       "\n",
       "   num_provincia  \n",
       "0              0  \n",
       "1              0  \n",
       "2              0  \n",
       "3              0  \n",
       "4              1  "
      ]
     },
     "execution_count": 13,
     "metadata": {},
     "output_type": "execute_result"
    }
   ],
   "source": [
    "df_fuel.head()"
   ]
  },
  {
   "cell_type": "code",
   "execution_count": 14,
   "id": "2d14d047-dfa3-48aa-9b8e-86a3ccddb194",
   "metadata": {},
   "outputs": [
    {
     "data": {
      "text/plain": [
       "array([ 0,  1,  2,  3,  4, 52,  5,  6,  7,  8,  9, 16, 17, 10, 11, 12, 13,\n",
       "       18, 14, 15, 19, 20, 21, 22, 23, 24, 25, 26, 27, 28, 29, 32, 30, 31,\n",
       "       33, 34, 35, 36, 37, 39, 40, 41, 42, 43, 44, 45, 46, 47, 48, 49, 50,\n",
       "       51, 38])"
      ]
     },
     "execution_count": 14,
     "metadata": {},
     "output_type": "execute_result"
    }
   ],
   "source": [
    "df_fuel[\"num_provincia\"].unique()"
   ]
  },
  {
   "cell_type": "code",
   "execution_count": 15,
   "id": "ade19137-cd3f-4796-a32a-d873b6bdbb1b",
   "metadata": {},
   "outputs": [
    {
     "data": {
      "text/html": [
       "<div>\n",
       "<style scoped>\n",
       "    .dataframe tbody tr th:only-of-type {\n",
       "        vertical-align: middle;\n",
       "    }\n",
       "\n",
       "    .dataframe tbody tr th {\n",
       "        vertical-align: top;\n",
       "    }\n",
       "\n",
       "    .dataframe thead th {\n",
       "        text-align: right;\n",
       "    }\n",
       "</style>\n",
       "<table border=\"1\" class=\"dataframe\">\n",
       "  <thead>\n",
       "    <tr style=\"text-align: right;\">\n",
       "      <th></th>\n",
       "      <th>Fecha Precio</th>\n",
       "      <th>Provincia</th>\n",
       "      <th>Producto</th>\n",
       "      <th>Promedio de Pai Diario CUBO €/litro</th>\n",
       "      <th>Promedio de Pvp Diario CUBO €/litro</th>\n",
       "      <th>num_provincia</th>\n",
       "    </tr>\n",
       "  </thead>\n",
       "  <tbody>\n",
       "    <tr>\n",
       "      <th>75762</th>\n",
       "      <td>Fecha Precio</td>\n",
       "      <td>Provincia</td>\n",
       "      <td>Producto</td>\n",
       "      <td>Promedio de Pai Diario CUBO €/litro</td>\n",
       "      <td>Promedio de Pvp Diario CUBO €/litro</td>\n",
       "      <td>38</td>\n",
       "    </tr>\n",
       "    <tr>\n",
       "      <th>151318</th>\n",
       "      <td>Fecha Precio</td>\n",
       "      <td>Provincia</td>\n",
       "      <td>Producto</td>\n",
       "      <td>Promedio de Pai Diario CUBO €/litro</td>\n",
       "      <td>Promedio de Pvp Diario CUBO €/litro</td>\n",
       "      <td>38</td>\n",
       "    </tr>\n",
       "    <tr>\n",
       "      <th>226874</th>\n",
       "      <td>Fecha Precio</td>\n",
       "      <td>Provincia</td>\n",
       "      <td>Producto</td>\n",
       "      <td>Promedio de Pai Diario CUBO €/litro</td>\n",
       "      <td>Promedio de Pvp Diario CUBO €/litro</td>\n",
       "      <td>38</td>\n",
       "    </tr>\n",
       "    <tr>\n",
       "      <th>302430</th>\n",
       "      <td>Fecha Precio</td>\n",
       "      <td>Provincia</td>\n",
       "      <td>Producto</td>\n",
       "      <td>Promedio de Pai Diario CUBO €/litro</td>\n",
       "      <td>Promedio de Pvp Diario CUBO €/litro</td>\n",
       "      <td>38</td>\n",
       "    </tr>\n",
       "    <tr>\n",
       "      <th>378193</th>\n",
       "      <td>Fecha Precio</td>\n",
       "      <td>Provincia</td>\n",
       "      <td>Producto</td>\n",
       "      <td>Promedio de Pai Diario CUBO €/litro</td>\n",
       "      <td>Promedio de Pvp Diario CUBO €/litro</td>\n",
       "      <td>38</td>\n",
       "    </tr>\n",
       "  </tbody>\n",
       "</table>\n",
       "</div>"
      ],
      "text/plain": [
       "        Fecha Precio  Provincia  Producto  \\\n",
       "75762   Fecha Precio  Provincia  Producto   \n",
       "151318  Fecha Precio  Provincia  Producto   \n",
       "226874  Fecha Precio  Provincia  Producto   \n",
       "302430  Fecha Precio  Provincia  Producto   \n",
       "378193  Fecha Precio  Provincia  Producto   \n",
       "\n",
       "        Promedio de Pai Diario CUBO €/litro  \\\n",
       "75762   Promedio de Pai Diario CUBO €/litro   \n",
       "151318  Promedio de Pai Diario CUBO €/litro   \n",
       "226874  Promedio de Pai Diario CUBO €/litro   \n",
       "302430  Promedio de Pai Diario CUBO €/litro   \n",
       "378193  Promedio de Pai Diario CUBO €/litro   \n",
       "\n",
       "        Promedio de Pvp Diario CUBO €/litro  num_provincia  \n",
       "75762   Promedio de Pvp Diario CUBO €/litro             38  \n",
       "151318  Promedio de Pvp Diario CUBO €/litro             38  \n",
       "226874  Promedio de Pvp Diario CUBO €/litro             38  \n",
       "302430  Promedio de Pvp Diario CUBO €/litro             38  \n",
       "378193  Promedio de Pvp Diario CUBO €/litro             38  "
      ]
     },
     "execution_count": 15,
     "metadata": {},
     "output_type": "execute_result"
    }
   ],
   "source": [
    "result = df_fuel.loc[df_fuel[\"num_provincia\"] == 38]\n",
    "result.head()"
   ]
  },
  {
   "cell_type": "markdown",
   "id": "bed4f2e0-81b8-4adb-8c5e-a3e88f721bc1",
   "metadata": {},
   "source": [
    "Puede parecer extraño pero esos valores se deben a que cuando se juntaron todos los archivos se añadió también la cabecera. Por lo tanto, las filas que sean de valor 38 las eliminamos."
   ]
  },
  {
   "cell_type": "code",
   "execution_count": 16,
   "id": "bbb73b92-40b0-471c-be6e-89e249db44e7",
   "metadata": {},
   "outputs": [],
   "source": [
    "df_fuel.drop(df_fuel[df_fuel[\"num_provincia\"] == 38].index, inplace = True)"
   ]
  },
  {
   "cell_type": "code",
   "execution_count": 17,
   "id": "02d11ce3-7c1d-4099-87a1-0a3efe9ce676",
   "metadata": {},
   "outputs": [
    {
     "data": {
      "text/plain": [
       "array([ 0,  1,  2,  3,  4, 52,  5,  6,  7,  8,  9, 16, 17, 10, 11, 12, 13,\n",
       "       18, 14, 15, 19, 20, 21, 22, 23, 24, 25, 26, 27, 28, 29, 32, 30, 31,\n",
       "       33, 34, 35, 36, 37, 39, 40, 41, 42, 43, 44, 45, 46, 47, 48, 49, 50,\n",
       "       51])"
      ]
     },
     "execution_count": 17,
     "metadata": {},
     "output_type": "execute_result"
    }
   ],
   "source": [
    "df_fuel[\"num_provincia\"].unique()"
   ]
  },
  {
   "cell_type": "markdown",
   "id": "8f085d04-23e0-4b7c-a798-31c8dccaf543",
   "metadata": {},
   "source": [
    "Se ha eliminado la etiqueta que sobra."
   ]
  },
  {
   "cell_type": "code",
   "execution_count": 18,
   "id": "617834ef-f795-4dc1-9c51-559f8280490a",
   "metadata": {},
   "outputs": [
    {
     "name": "stdout",
     "output_type": "stream",
     "text": [
      "['Albacete' 'Alicante/Alacant' 'Almería' 'Araba/Álava' 'Asturias'\n",
      " 'Badajoz' 'Balears, Illes' 'Barcelona' 'Bizkaia' 'Burgos' 'Cantabria'\n",
      " 'Castellón/Castelló' 'Ceuta' 'Ciudad Real' 'Coruña, A' 'Cuenca' 'Cáceres'\n",
      " 'Cádiz' 'Córdoba' 'Gipuzkoa' 'Girona' 'Granada' 'Guadalajara' 'Huelva'\n",
      " 'Huesca' 'Jaén' 'León' 'Lleida' 'Lugo' 'Madrid' 'Melilla' 'Murcia'\n",
      " 'Málaga' 'Navarra' 'Ourense' 'Palencia' 'Palmas, Las' 'Pontevedra'\n",
      " 'Provincia' 'Rioja, La' 'Salamanca' 'Santa Cruz de Tenerife' 'Segovia'\n",
      " 'Sevilla' 'Soria' 'Tarragona' 'Teruel' 'Toledo' 'Valencia/València'\n",
      " 'Valladolid' 'Zamora' 'Zaragoza' 'Ávila']\n"
     ]
    }
   ],
   "source": [
    "print(le.classes_)"
   ]
  },
  {
   "cell_type": "markdown",
   "id": "99c0e5da-f3d3-4d7e-b08e-b478278802eb",
   "metadata": {},
   "source": [
    "## Producto"
   ]
  },
  {
   "cell_type": "markdown",
   "id": "e471a622-61dc-45f3-b548-5072e4463f90",
   "metadata": {},
   "source": [
    "De igual manera, hay que hacer lo mismo con Producto:  \n",
    "En este caso uso un mapeo."
   ]
  },
  {
   "cell_type": "code",
   "execution_count": 19,
   "id": "91f481cd-2a68-4731-8d10-487d8aed9b11",
   "metadata": {},
   "outputs": [],
   "source": [
    "df_fuel[\"num_producto\"] = df_fuel[\"Producto\"].map({\"Gasolina 95 E5\":0, \"Gasolina 98 E5\":1, \"Gasóleo A habitual\":2, \n",
    "                                               \"Gasóleo Premium\":3})"
   ]
  },
  {
   "cell_type": "code",
   "execution_count": 20,
   "id": "9c176df0-3cfc-48a2-a346-2e721759123c",
   "metadata": {},
   "outputs": [
    {
     "data": {
      "text/html": [
       "<div>\n",
       "<style scoped>\n",
       "    .dataframe tbody tr th:only-of-type {\n",
       "        vertical-align: middle;\n",
       "    }\n",
       "\n",
       "    .dataframe tbody tr th {\n",
       "        vertical-align: top;\n",
       "    }\n",
       "\n",
       "    .dataframe thead th {\n",
       "        text-align: right;\n",
       "    }\n",
       "</style>\n",
       "<table border=\"1\" class=\"dataframe\">\n",
       "  <thead>\n",
       "    <tr style=\"text-align: right;\">\n",
       "      <th></th>\n",
       "      <th>Fecha Precio</th>\n",
       "      <th>Provincia</th>\n",
       "      <th>Producto</th>\n",
       "      <th>Promedio de Pai Diario CUBO €/litro</th>\n",
       "      <th>Promedio de Pvp Diario CUBO €/litro</th>\n",
       "      <th>num_provincia</th>\n",
       "      <th>num_producto</th>\n",
       "    </tr>\n",
       "  </thead>\n",
       "  <tbody>\n",
       "    <tr>\n",
       "      <th>0</th>\n",
       "      <td>2016-01-01</td>\n",
       "      <td>Albacete</td>\n",
       "      <td>Gasolina 95 E5</td>\n",
       "      <td>0,482</td>\n",
       "      <td>1,155</td>\n",
       "      <td>0</td>\n",
       "      <td>0</td>\n",
       "    </tr>\n",
       "    <tr>\n",
       "      <th>1</th>\n",
       "      <td>2016-01-01</td>\n",
       "      <td>Albacete</td>\n",
       "      <td>Gasolina 98 E5</td>\n",
       "      <td>0,552</td>\n",
       "      <td>1,278</td>\n",
       "      <td>0</td>\n",
       "      <td>1</td>\n",
       "    </tr>\n",
       "    <tr>\n",
       "      <th>2</th>\n",
       "      <td>2016-01-01</td>\n",
       "      <td>Albacete</td>\n",
       "      <td>Gasóleo A habitual</td>\n",
       "      <td>0,441</td>\n",
       "      <td>0,993</td>\n",
       "      <td>0</td>\n",
       "      <td>2</td>\n",
       "    </tr>\n",
       "    <tr>\n",
       "      <th>3</th>\n",
       "      <td>2016-01-01</td>\n",
       "      <td>Albacete</td>\n",
       "      <td>Gasóleo Premium</td>\n",
       "      <td>0,504</td>\n",
       "      <td>1,069</td>\n",
       "      <td>0</td>\n",
       "      <td>3</td>\n",
       "    </tr>\n",
       "    <tr>\n",
       "      <th>4</th>\n",
       "      <td>2016-01-01</td>\n",
       "      <td>Alicante/Alacant</td>\n",
       "      <td>Gasolina 95 E5</td>\n",
       "      <td>0,483</td>\n",
       "      <td>1,157</td>\n",
       "      <td>1</td>\n",
       "      <td>0</td>\n",
       "    </tr>\n",
       "  </tbody>\n",
       "</table>\n",
       "</div>"
      ],
      "text/plain": [
       "  Fecha Precio         Provincia            Producto  \\\n",
       "0   2016-01-01          Albacete      Gasolina 95 E5   \n",
       "1   2016-01-01          Albacete      Gasolina 98 E5   \n",
       "2   2016-01-01          Albacete  Gasóleo A habitual   \n",
       "3   2016-01-01          Albacete     Gasóleo Premium   \n",
       "4   2016-01-01  Alicante/Alacant      Gasolina 95 E5   \n",
       "\n",
       "  Promedio de Pai Diario CUBO €/litro Promedio de Pvp Diario CUBO €/litro  \\\n",
       "0                               0,482                               1,155   \n",
       "1                               0,552                               1,278   \n",
       "2                               0,441                               0,993   \n",
       "3                               0,504                               1,069   \n",
       "4                               0,483                               1,157   \n",
       "\n",
       "   num_provincia  num_producto  \n",
       "0              0             0  \n",
       "1              0             1  \n",
       "2              0             2  \n",
       "3              0             3  \n",
       "4              1             0  "
      ]
     },
     "execution_count": 20,
     "metadata": {},
     "output_type": "execute_result"
    }
   ],
   "source": [
    "df_fuel.head()"
   ]
  },
  {
   "cell_type": "code",
   "execution_count": 21,
   "id": "a8871789-b270-4aa3-973b-363cfe1f705d",
   "metadata": {},
   "outputs": [
    {
     "data": {
      "text/plain": [
       "array([0, 1, 2, 3], dtype=int64)"
      ]
     },
     "execution_count": 21,
     "metadata": {},
     "output_type": "execute_result"
    }
   ],
   "source": [
    "df_fuel[\"num_producto\"].unique()"
   ]
  },
  {
   "cell_type": "markdown",
   "id": "9c53f0b1-dc68-4067-a8df-46017ce48943",
   "metadata": {},
   "source": [
    "## Fechas"
   ]
  },
  {
   "cell_type": "markdown",
   "id": "df582d36-dfff-4d86-b52e-4b2baafa5a18",
   "metadata": {},
   "source": [
    "Se divide la fecha en tres columnas: año, mes, día."
   ]
  },
  {
   "cell_type": "code",
   "execution_count": 22,
   "id": "317f191b-c580-4099-8b3b-fae87b604263",
   "metadata": {},
   "outputs": [],
   "source": [
    "df_fuel[\"Fecha Precio\"] = pd.to_datetime(df_fuel[\"Fecha Precio\"])"
   ]
  },
  {
   "cell_type": "code",
   "execution_count": 23,
   "id": "0e83d90b-873f-4557-b2fd-9b9a82d76cea",
   "metadata": {},
   "outputs": [],
   "source": [
    "df_fuel[\"anno\"] = df_fuel[\"Fecha Precio\"].dt.year\n",
    "df_fuel[\"mes\"] = df_fuel[\"Fecha Precio\"].dt.month\n",
    "df_fuel[\"dia\"] = df_fuel[\"Fecha Precio\"].dt.day"
   ]
  },
  {
   "cell_type": "code",
   "execution_count": 24,
   "id": "c5a59fb2-4078-4057-9e02-97adb6e1c13b",
   "metadata": {},
   "outputs": [
    {
     "data": {
      "text/html": [
       "<div>\n",
       "<style scoped>\n",
       "    .dataframe tbody tr th:only-of-type {\n",
       "        vertical-align: middle;\n",
       "    }\n",
       "\n",
       "    .dataframe tbody tr th {\n",
       "        vertical-align: top;\n",
       "    }\n",
       "\n",
       "    .dataframe thead th {\n",
       "        text-align: right;\n",
       "    }\n",
       "</style>\n",
       "<table border=\"1\" class=\"dataframe\">\n",
       "  <thead>\n",
       "    <tr style=\"text-align: right;\">\n",
       "      <th></th>\n",
       "      <th>Fecha Precio</th>\n",
       "      <th>Provincia</th>\n",
       "      <th>Producto</th>\n",
       "      <th>Promedio de Pai Diario CUBO €/litro</th>\n",
       "      <th>Promedio de Pvp Diario CUBO €/litro</th>\n",
       "      <th>num_provincia</th>\n",
       "      <th>num_producto</th>\n",
       "      <th>anno</th>\n",
       "      <th>mes</th>\n",
       "      <th>dia</th>\n",
       "    </tr>\n",
       "  </thead>\n",
       "  <tbody>\n",
       "    <tr>\n",
       "      <th>0</th>\n",
       "      <td>2016-01-01</td>\n",
       "      <td>Albacete</td>\n",
       "      <td>Gasolina 95 E5</td>\n",
       "      <td>0,482</td>\n",
       "      <td>1,155</td>\n",
       "      <td>0</td>\n",
       "      <td>0</td>\n",
       "      <td>2016</td>\n",
       "      <td>1</td>\n",
       "      <td>1</td>\n",
       "    </tr>\n",
       "    <tr>\n",
       "      <th>1</th>\n",
       "      <td>2016-01-01</td>\n",
       "      <td>Albacete</td>\n",
       "      <td>Gasolina 98 E5</td>\n",
       "      <td>0,552</td>\n",
       "      <td>1,278</td>\n",
       "      <td>0</td>\n",
       "      <td>1</td>\n",
       "      <td>2016</td>\n",
       "      <td>1</td>\n",
       "      <td>1</td>\n",
       "    </tr>\n",
       "    <tr>\n",
       "      <th>2</th>\n",
       "      <td>2016-01-01</td>\n",
       "      <td>Albacete</td>\n",
       "      <td>Gasóleo A habitual</td>\n",
       "      <td>0,441</td>\n",
       "      <td>0,993</td>\n",
       "      <td>0</td>\n",
       "      <td>2</td>\n",
       "      <td>2016</td>\n",
       "      <td>1</td>\n",
       "      <td>1</td>\n",
       "    </tr>\n",
       "    <tr>\n",
       "      <th>3</th>\n",
       "      <td>2016-01-01</td>\n",
       "      <td>Albacete</td>\n",
       "      <td>Gasóleo Premium</td>\n",
       "      <td>0,504</td>\n",
       "      <td>1,069</td>\n",
       "      <td>0</td>\n",
       "      <td>3</td>\n",
       "      <td>2016</td>\n",
       "      <td>1</td>\n",
       "      <td>1</td>\n",
       "    </tr>\n",
       "    <tr>\n",
       "      <th>4</th>\n",
       "      <td>2016-01-01</td>\n",
       "      <td>Alicante/Alacant</td>\n",
       "      <td>Gasolina 95 E5</td>\n",
       "      <td>0,483</td>\n",
       "      <td>1,157</td>\n",
       "      <td>1</td>\n",
       "      <td>0</td>\n",
       "      <td>2016</td>\n",
       "      <td>1</td>\n",
       "      <td>1</td>\n",
       "    </tr>\n",
       "  </tbody>\n",
       "</table>\n",
       "</div>"
      ],
      "text/plain": [
       "  Fecha Precio         Provincia            Producto  \\\n",
       "0   2016-01-01          Albacete      Gasolina 95 E5   \n",
       "1   2016-01-01          Albacete      Gasolina 98 E5   \n",
       "2   2016-01-01          Albacete  Gasóleo A habitual   \n",
       "3   2016-01-01          Albacete     Gasóleo Premium   \n",
       "4   2016-01-01  Alicante/Alacant      Gasolina 95 E5   \n",
       "\n",
       "  Promedio de Pai Diario CUBO €/litro Promedio de Pvp Diario CUBO €/litro  \\\n",
       "0                               0,482                               1,155   \n",
       "1                               0,552                               1,278   \n",
       "2                               0,441                               0,993   \n",
       "3                               0,504                               1,069   \n",
       "4                               0,483                               1,157   \n",
       "\n",
       "   num_provincia  num_producto  anno  mes  dia  \n",
       "0              0             0  2016    1    1  \n",
       "1              0             1  2016    1    1  \n",
       "2              0             2  2016    1    1  \n",
       "3              0             3  2016    1    1  \n",
       "4              1             0  2016    1    1  "
      ]
     },
     "execution_count": 24,
     "metadata": {},
     "output_type": "execute_result"
    }
   ],
   "source": [
    "df_fuel.head()"
   ]
  },
  {
   "cell_type": "markdown",
   "id": "28f78b10-4a96-41d2-b76a-e3830eefa351",
   "metadata": {},
   "source": [
    "## Renombrado de columnas"
   ]
  },
  {
   "cell_type": "markdown",
   "id": "dfdeb0fe-35c4-4f87-8aae-b20c26ffe465",
   "metadata": {},
   "source": [
    "Nos quedamos solo con las columnas que nos interesan y renombramos algunas de ellas:"
   ]
  },
  {
   "cell_type": "code",
   "execution_count": 25,
   "id": "01d11d0b-82a5-4deb-b5f8-06337238a0ae",
   "metadata": {},
   "outputs": [],
   "source": [
    "df_fuel = df_fuel[[\"anno\",\"mes\",\"dia\",\"num_provincia\",\"num_producto\",\"Promedio de Pai Diario CUBO €/litro\",\"Promedio de Pvp Diario CUBO €/litro\"]]\n",
    "df_fuel.rename(columns={\"Promedio de Pai Diario CUBO €/litro\": \"promedio_de_pai_diario_cubo\", \"Promedio de Pvp Diario CUBO €/litro\": \"promedio_de_pvp_diario_cubo\"}, inplace = True)"
   ]
  },
  {
   "cell_type": "code",
   "execution_count": 26,
   "id": "9b673a0e-bdd3-49c9-ad63-953917561ec2",
   "metadata": {},
   "outputs": [
    {
     "data": {
      "text/html": [
       "<div>\n",
       "<style scoped>\n",
       "    .dataframe tbody tr th:only-of-type {\n",
       "        vertical-align: middle;\n",
       "    }\n",
       "\n",
       "    .dataframe tbody tr th {\n",
       "        vertical-align: top;\n",
       "    }\n",
       "\n",
       "    .dataframe thead th {\n",
       "        text-align: right;\n",
       "    }\n",
       "</style>\n",
       "<table border=\"1\" class=\"dataframe\">\n",
       "  <thead>\n",
       "    <tr style=\"text-align: right;\">\n",
       "      <th></th>\n",
       "      <th>anno</th>\n",
       "      <th>mes</th>\n",
       "      <th>dia</th>\n",
       "      <th>num_provincia</th>\n",
       "      <th>num_producto</th>\n",
       "      <th>promedio_de_pai_diario_cubo</th>\n",
       "      <th>promedio_de_pvp_diario_cubo</th>\n",
       "    </tr>\n",
       "  </thead>\n",
       "  <tbody>\n",
       "    <tr>\n",
       "      <th>0</th>\n",
       "      <td>2016</td>\n",
       "      <td>1</td>\n",
       "      <td>1</td>\n",
       "      <td>0</td>\n",
       "      <td>0</td>\n",
       "      <td>0,482</td>\n",
       "      <td>1,155</td>\n",
       "    </tr>\n",
       "    <tr>\n",
       "      <th>1</th>\n",
       "      <td>2016</td>\n",
       "      <td>1</td>\n",
       "      <td>1</td>\n",
       "      <td>0</td>\n",
       "      <td>1</td>\n",
       "      <td>0,552</td>\n",
       "      <td>1,278</td>\n",
       "    </tr>\n",
       "    <tr>\n",
       "      <th>2</th>\n",
       "      <td>2016</td>\n",
       "      <td>1</td>\n",
       "      <td>1</td>\n",
       "      <td>0</td>\n",
       "      <td>2</td>\n",
       "      <td>0,441</td>\n",
       "      <td>0,993</td>\n",
       "    </tr>\n",
       "    <tr>\n",
       "      <th>3</th>\n",
       "      <td>2016</td>\n",
       "      <td>1</td>\n",
       "      <td>1</td>\n",
       "      <td>0</td>\n",
       "      <td>3</td>\n",
       "      <td>0,504</td>\n",
       "      <td>1,069</td>\n",
       "    </tr>\n",
       "    <tr>\n",
       "      <th>4</th>\n",
       "      <td>2016</td>\n",
       "      <td>1</td>\n",
       "      <td>1</td>\n",
       "      <td>1</td>\n",
       "      <td>0</td>\n",
       "      <td>0,483</td>\n",
       "      <td>1,157</td>\n",
       "    </tr>\n",
       "  </tbody>\n",
       "</table>\n",
       "</div>"
      ],
      "text/plain": [
       "   anno  mes  dia  num_provincia  num_producto promedio_de_pai_diario_cubo  \\\n",
       "0  2016    1    1              0             0                       0,482   \n",
       "1  2016    1    1              0             1                       0,552   \n",
       "2  2016    1    1              0             2                       0,441   \n",
       "3  2016    1    1              0             3                       0,504   \n",
       "4  2016    1    1              1             0                       0,483   \n",
       "\n",
       "  promedio_de_pvp_diario_cubo  \n",
       "0                       1,155  \n",
       "1                       1,278  \n",
       "2                       0,993  \n",
       "3                       1,069  \n",
       "4                       1,157  "
      ]
     },
     "execution_count": 26,
     "metadata": {},
     "output_type": "execute_result"
    }
   ],
   "source": [
    "df_fuel.head()"
   ]
  },
  {
   "cell_type": "markdown",
   "id": "c31ff60e-2542-43f7-85c2-ac904d0d1327",
   "metadata": {},
   "source": [
    "## Pasar valores con comas a puntos"
   ]
  },
  {
   "cell_type": "code",
   "execution_count": 27,
   "id": "eb995ee9-b4f5-4816-ac33-5c31a94d131e",
   "metadata": {},
   "outputs": [],
   "source": [
    "df_fuel[\"promedio_de_pai_diario_cubo\"] = df_fuel[\"promedio_de_pai_diario_cubo\"].str.replace(',', '.').astype(float)\n",
    "df_fuel[\"promedio_de_pvp_diario_cubo\"] = df_fuel[\"promedio_de_pvp_diario_cubo\"].str.replace(',', '.').astype(float)"
   ]
  },
  {
   "cell_type": "code",
   "execution_count": 28,
   "id": "7817d23d-5086-4fc3-896d-717ac3a984bf",
   "metadata": {},
   "outputs": [
    {
     "data": {
      "text/html": [
       "<div>\n",
       "<style scoped>\n",
       "    .dataframe tbody tr th:only-of-type {\n",
       "        vertical-align: middle;\n",
       "    }\n",
       "\n",
       "    .dataframe tbody tr th {\n",
       "        vertical-align: top;\n",
       "    }\n",
       "\n",
       "    .dataframe thead th {\n",
       "        text-align: right;\n",
       "    }\n",
       "</style>\n",
       "<table border=\"1\" class=\"dataframe\">\n",
       "  <thead>\n",
       "    <tr style=\"text-align: right;\">\n",
       "      <th></th>\n",
       "      <th>anno</th>\n",
       "      <th>mes</th>\n",
       "      <th>dia</th>\n",
       "      <th>num_provincia</th>\n",
       "      <th>num_producto</th>\n",
       "      <th>promedio_de_pai_diario_cubo</th>\n",
       "      <th>promedio_de_pvp_diario_cubo</th>\n",
       "    </tr>\n",
       "  </thead>\n",
       "  <tbody>\n",
       "    <tr>\n",
       "      <th>0</th>\n",
       "      <td>2016</td>\n",
       "      <td>1</td>\n",
       "      <td>1</td>\n",
       "      <td>0</td>\n",
       "      <td>0</td>\n",
       "      <td>0.482</td>\n",
       "      <td>1.155</td>\n",
       "    </tr>\n",
       "    <tr>\n",
       "      <th>1</th>\n",
       "      <td>2016</td>\n",
       "      <td>1</td>\n",
       "      <td>1</td>\n",
       "      <td>0</td>\n",
       "      <td>1</td>\n",
       "      <td>0.552</td>\n",
       "      <td>1.278</td>\n",
       "    </tr>\n",
       "    <tr>\n",
       "      <th>2</th>\n",
       "      <td>2016</td>\n",
       "      <td>1</td>\n",
       "      <td>1</td>\n",
       "      <td>0</td>\n",
       "      <td>2</td>\n",
       "      <td>0.441</td>\n",
       "      <td>0.993</td>\n",
       "    </tr>\n",
       "    <tr>\n",
       "      <th>3</th>\n",
       "      <td>2016</td>\n",
       "      <td>1</td>\n",
       "      <td>1</td>\n",
       "      <td>0</td>\n",
       "      <td>3</td>\n",
       "      <td>0.504</td>\n",
       "      <td>1.069</td>\n",
       "    </tr>\n",
       "    <tr>\n",
       "      <th>4</th>\n",
       "      <td>2016</td>\n",
       "      <td>1</td>\n",
       "      <td>1</td>\n",
       "      <td>1</td>\n",
       "      <td>0</td>\n",
       "      <td>0.483</td>\n",
       "      <td>1.157</td>\n",
       "    </tr>\n",
       "  </tbody>\n",
       "</table>\n",
       "</div>"
      ],
      "text/plain": [
       "   anno  mes  dia  num_provincia  num_producto  promedio_de_pai_diario_cubo  \\\n",
       "0  2016    1    1              0             0                        0.482   \n",
       "1  2016    1    1              0             1                        0.552   \n",
       "2  2016    1    1              0             2                        0.441   \n",
       "3  2016    1    1              0             3                        0.504   \n",
       "4  2016    1    1              1             0                        0.483   \n",
       "\n",
       "   promedio_de_pvp_diario_cubo  \n",
       "0                        1.155  \n",
       "1                        1.278  \n",
       "2                        0.993  \n",
       "3                        1.069  \n",
       "4                        1.157  "
      ]
     },
     "execution_count": 28,
     "metadata": {},
     "output_type": "execute_result"
    }
   ],
   "source": [
    "df_fuel.head()"
   ]
  },
  {
   "cell_type": "code",
   "execution_count": 29,
   "id": "d899dcaf-c5d6-4f6b-8c38-8fe946d6b808",
   "metadata": {},
   "outputs": [
    {
     "data": {
      "text/plain": [
       "anno                             int32\n",
       "mes                              int32\n",
       "dia                              int32\n",
       "num_provincia                    int32\n",
       "num_producto                     int64\n",
       "promedio_de_pai_diario_cubo    float64\n",
       "promedio_de_pvp_diario_cubo    float64\n",
       "dtype: object"
      ]
     },
     "execution_count": 29,
     "metadata": {},
     "output_type": "execute_result"
    }
   ],
   "source": [
    "df_fuel.dtypes"
   ]
  },
  {
   "cell_type": "markdown",
   "id": "406c78b7-3a85-4a1c-8bcb-6c60e4aecb9c",
   "metadata": {},
   "source": [
    "## Guardado del dataset transformado"
   ]
  },
  {
   "cell_type": "code",
   "execution_count": 30,
   "id": "65e0590a-5798-4be6-b854-71f76343c34d",
   "metadata": {},
   "outputs": [],
   "source": [
    "dataset = \"dataset.csv\"\n",
    "clean_csv_path = os.path.join(path, dataset)\n",
    "\n",
    "df_fuel.to_csv(clean_csv_path, index=False)"
   ]
  },
  {
   "cell_type": "markdown",
   "id": "c881fce3-e7dc-48bd-bef4-2c3539e2539f",
   "metadata": {},
   "source": [
    "# Entrenamiento"
   ]
  },
  {
   "cell_type": "markdown",
   "id": "87d25f43-d1eb-4a7b-afd7-9b1d99ab7a65",
   "metadata": {},
   "source": [
    "En caso de ser necesario (para no tener que arrancar todo lo anterior si cerramos el archivo) cargamos de nuevo el dataset:"
   ]
  },
  {
   "cell_type": "code",
   "execution_count": 31,
   "id": "19450e11-1d28-40b1-b329-404ee4557af6",
   "metadata": {},
   "outputs": [],
   "source": [
    "df_fuel = pd.read_csv(clean_csv_path)"
   ]
  },
  {
   "cell_type": "code",
   "execution_count": 32,
   "id": "7ae73f4b-01f9-46c0-85db-58d86c9b4cf5",
   "metadata": {},
   "outputs": [
    {
     "data": {
      "text/html": [
       "<div>\n",
       "<style scoped>\n",
       "    .dataframe tbody tr th:only-of-type {\n",
       "        vertical-align: middle;\n",
       "    }\n",
       "\n",
       "    .dataframe tbody tr th {\n",
       "        vertical-align: top;\n",
       "    }\n",
       "\n",
       "    .dataframe thead th {\n",
       "        text-align: right;\n",
       "    }\n",
       "</style>\n",
       "<table border=\"1\" class=\"dataframe\">\n",
       "  <thead>\n",
       "    <tr style=\"text-align: right;\">\n",
       "      <th></th>\n",
       "      <th>anno</th>\n",
       "      <th>mes</th>\n",
       "      <th>dia</th>\n",
       "      <th>num_provincia</th>\n",
       "      <th>num_producto</th>\n",
       "      <th>promedio_de_pai_diario_cubo</th>\n",
       "      <th>promedio_de_pvp_diario_cubo</th>\n",
       "    </tr>\n",
       "  </thead>\n",
       "  <tbody>\n",
       "    <tr>\n",
       "      <th>0</th>\n",
       "      <td>2016</td>\n",
       "      <td>1</td>\n",
       "      <td>1</td>\n",
       "      <td>0</td>\n",
       "      <td>0</td>\n",
       "      <td>0.482</td>\n",
       "      <td>1.155</td>\n",
       "    </tr>\n",
       "    <tr>\n",
       "      <th>1</th>\n",
       "      <td>2016</td>\n",
       "      <td>1</td>\n",
       "      <td>1</td>\n",
       "      <td>0</td>\n",
       "      <td>1</td>\n",
       "      <td>0.552</td>\n",
       "      <td>1.278</td>\n",
       "    </tr>\n",
       "    <tr>\n",
       "      <th>2</th>\n",
       "      <td>2016</td>\n",
       "      <td>1</td>\n",
       "      <td>1</td>\n",
       "      <td>0</td>\n",
       "      <td>2</td>\n",
       "      <td>0.441</td>\n",
       "      <td>0.993</td>\n",
       "    </tr>\n",
       "    <tr>\n",
       "      <th>3</th>\n",
       "      <td>2016</td>\n",
       "      <td>1</td>\n",
       "      <td>1</td>\n",
       "      <td>0</td>\n",
       "      <td>3</td>\n",
       "      <td>0.504</td>\n",
       "      <td>1.069</td>\n",
       "    </tr>\n",
       "    <tr>\n",
       "      <th>4</th>\n",
       "      <td>2016</td>\n",
       "      <td>1</td>\n",
       "      <td>1</td>\n",
       "      <td>1</td>\n",
       "      <td>0</td>\n",
       "      <td>0.483</td>\n",
       "      <td>1.157</td>\n",
       "    </tr>\n",
       "  </tbody>\n",
       "</table>\n",
       "</div>"
      ],
      "text/plain": [
       "   anno  mes  dia  num_provincia  num_producto  promedio_de_pai_diario_cubo  \\\n",
       "0  2016    1    1              0             0                        0.482   \n",
       "1  2016    1    1              0             1                        0.552   \n",
       "2  2016    1    1              0             2                        0.441   \n",
       "3  2016    1    1              0             3                        0.504   \n",
       "4  2016    1    1              1             0                        0.483   \n",
       "\n",
       "   promedio_de_pvp_diario_cubo  \n",
       "0                        1.155  \n",
       "1                        1.278  \n",
       "2                        0.993  \n",
       "3                        1.069  \n",
       "4                        1.157  "
      ]
     },
     "execution_count": 32,
     "metadata": {},
     "output_type": "execute_result"
    }
   ],
   "source": [
    "df_fuel.head()"
   ]
  },
  {
   "cell_type": "markdown",
   "id": "6f017ae4-f508-455f-b98d-506d73b2e4d0",
   "metadata": {},
   "source": [
    "## Modelo de predicción sin impuestos (PAI):"
   ]
  },
  {
   "cell_type": "code",
   "execution_count": 33,
   "id": "58d3f37d-ef6e-44ef-bf2c-c3aed19d542d",
   "metadata": {},
   "outputs": [],
   "source": [
    "def train_pai():\n",
    "    X = df_fuel.drop([\"promedio_de_pai_diario_cubo\",\"promedio_de_pvp_diario_cubo\"], axis=1)\n",
    "    y = df_fuel[\"promedio_de_pai_diario_cubo\"]\n",
    "\n",
    "    X_train, X_test, y_train, y_test = train_test_split(X, y, test_size=0.2, random_state=42)\n",
    "\n",
    "    pai = DecisionTreeRegressor()\n",
    "    pai_model = pai.fit(X_train.values, y_train)\n",
    "    model_score = pai.score(X_test, y_test)\n",
    "\n",
    "    print(f\"La puntuación del modelo es de: {model_score} %\")\n",
    "\n",
    "    return pai_model"
   ]
  },
  {
   "cell_type": "code",
   "execution_count": 34,
   "id": "cd2dc78b-4b33-42d9-996d-ed1cf15fe946",
   "metadata": {},
   "outputs": [
    {
     "name": "stdout",
     "output_type": "stream",
     "text": [
      "La puntuación del modelo es de: 0.9991530236991897 %\n"
     ]
    },
    {
     "name": "stderr",
     "output_type": "stream",
     "text": [
      "e:\\Programas\\anaconda3\\Lib\\site-packages\\sklearn\\base.py:486: UserWarning: X has feature names, but DecisionTreeRegressor was fitted without feature names\n",
      "  warnings.warn(\n"
     ]
    }
   ],
   "source": [
    "pai_model = train_pai()"
   ]
  },
  {
   "cell_type": "markdown",
   "id": "d94126f4-3658-4a3b-95c6-d7b6610d77b4",
   "metadata": {},
   "source": [
    "## Modelo de predicción con impuestos (PVP):"
   ]
  },
  {
   "cell_type": "code",
   "execution_count": 35,
   "id": "a215def6-c6aa-426e-a7d1-63c4816bbded",
   "metadata": {},
   "outputs": [],
   "source": [
    "def train_pvp():\n",
    "    X = df_fuel.drop([\"promedio_de_pai_diario_cubo\",\"promedio_de_pvp_diario_cubo\"], axis=1)\n",
    "    y = df_fuel[\"promedio_de_pvp_diario_cubo\"]\n",
    "\n",
    "    X_train, X_test, y_train, y_test = train_test_split(X, y, test_size=0.2, random_state=42)\n",
    "\n",
    "    pvp = DecisionTreeRegressor()\n",
    "    pvp_model = pvp.fit(X_train.values, y_train)\n",
    "    model_score = pvp.score(X_test, y_test)\n",
    "\n",
    "    print(f\"La puntuación del modelo es de: {model_score} %\")\n",
    "\n",
    "    return pvp_model"
   ]
  },
  {
   "cell_type": "code",
   "execution_count": 36,
   "id": "68cb31fd-e244-46ce-8be7-5f8a0a98e9b1",
   "metadata": {},
   "outputs": [
    {
     "name": "stdout",
     "output_type": "stream",
     "text": [
      "La puntuación del modelo es de: 0.9994221218979142 %\n"
     ]
    },
    {
     "name": "stderr",
     "output_type": "stream",
     "text": [
      "e:\\Programas\\anaconda3\\Lib\\site-packages\\sklearn\\base.py:486: UserWarning: X has feature names, but DecisionTreeRegressor was fitted without feature names\n",
      "  warnings.warn(\n"
     ]
    }
   ],
   "source": [
    "pvp_model = train_pvp()"
   ]
  },
  {
   "cell_type": "markdown",
   "id": "05d4351a-4d74-439b-8b53-409fbec628a6",
   "metadata": {},
   "source": [
    "## Guardado de los modelos"
   ]
  },
  {
   "cell_type": "code",
   "execution_count": 37,
   "id": "ae41822a-d400-40c6-90ce-f32fa7e3cc53",
   "metadata": {},
   "outputs": [
    {
     "name": "stdout",
     "output_type": "stream",
     "text": [
      "El directorio model en: g:\\Proyectos_Github\\fuel-predict\\docker ya existe.\n"
     ]
    }
   ],
   "source": [
    "directory = \"model\"\n",
    "parent_dir = os.path.abspath(os.path.join(os.getcwd(), \"..\"))\n",
    "\n",
    "path = os.path.join(parent_dir, directory)\n",
    "\n",
    "try:\n",
    "    os.mkdir(path)\n",
    "    print(f\"Se ha creado el directorio {directory} en: {parent_dir}\")\n",
    "except OSError as error:\n",
    "    print(f\"El directorio {directory} en: {parent_dir} ya existe.\")"
   ]
  },
  {
   "cell_type": "code",
   "execution_count": 38,
   "id": "1b8224e0-27bf-4597-9cdd-bb59833a3c17",
   "metadata": {},
   "outputs": [],
   "source": [
    "def save_model(model, filename):\n",
    "    directory = \"model\"\n",
    "    path = os.path.join(parent_dir, directory)\n",
    "    \n",
    "    save_file = os.path.join(path, filename)\n",
    "\n",
    "    with open(save_file, \"wb\") as f:\n",
    "        pickle.dump(model, f)"
   ]
  },
  {
   "cell_type": "code",
   "execution_count": 39,
   "id": "e779a98c-8de1-4a67-af50-61d9e2690090",
   "metadata": {},
   "outputs": [],
   "source": [
    "save_model(pai_model, \"pai_model.pkl\")"
   ]
  },
  {
   "cell_type": "code",
   "execution_count": 40,
   "id": "2be04258-b93a-4331-a59e-824c1cba04da",
   "metadata": {},
   "outputs": [],
   "source": [
    "save_model(pvp_model, \"pvp_model.pkl\")"
   ]
  },
  {
   "cell_type": "markdown",
   "id": "e9ca8a0a-145c-4489-9cb2-9a63010d5923",
   "metadata": {},
   "source": [
    "Ejemplo de carga de modelo:"
   ]
  },
  {
   "cell_type": "code",
   "execution_count": 41,
   "id": "cb58c9a3-5b74-46a0-9727-03b05bf7fdae",
   "metadata": {},
   "outputs": [],
   "source": [
    "# with open('model.pkl', 'rb') as f:\n",
    "#     clf2 = pickle.load(f)\n",
    "\n",
    "# clf2.predict(X[0:1])"
   ]
  }
 ],
 "metadata": {
  "kernelspec": {
   "display_name": "Python 3 (ipykernel)",
   "language": "python",
   "name": "python3"
  },
  "language_info": {
   "codemirror_mode": {
    "name": "ipython",
    "version": 3
   },
   "file_extension": ".py",
   "mimetype": "text/x-python",
   "name": "python",
   "nbconvert_exporter": "python",
   "pygments_lexer": "ipython3",
   "version": "3.12.7"
  }
 },
 "nbformat": 4,
 "nbformat_minor": 5
}
