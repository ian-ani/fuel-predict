{
 "cells": [
  {
   "cell_type": "markdown",
   "id": "f86591bc-6400-4812-a3a5-238283b81bc3",
   "metadata": {},
   "source": [
    "# Importar librerías"
   ]
  },
  {
   "cell_type": "code",
   "execution_count": 1,
   "id": "70e08457-a8b0-41f6-88a8-0a029eb0677c",
   "metadata": {},
   "outputs": [],
   "source": [
    "import os\n",
    "import requests\n",
    "import json\n",
    "import pandas as pd\n",
    "from pandas import json_normalize"
   ]
  },
  {
   "cell_type": "code",
   "execution_count": 2,
   "id": "131f9626-025f-4512-99f9-6a10e683dc28",
   "metadata": {},
   "outputs": [],
   "source": [
    "from sklearn.preprocessing import LabelEncoder\n",
    "\n",
    "le = LabelEncoder()"
   ]
  },
  {
   "cell_type": "code",
   "execution_count": 3,
   "id": "43baace7-15a3-49df-a15b-ce89df58d6c8",
   "metadata": {},
   "outputs": [],
   "source": [
    "from sklearn.model_selection import train_test_split\n",
    "from sklearn.tree import DecisionTreeRegressor"
   ]
  },
  {
   "cell_type": "code",
   "execution_count": 4,
   "id": "51557651-df19-4c31-a7cf-6d5030d0764b",
   "metadata": {},
   "outputs": [],
   "source": [
    "import pickle"
   ]
  },
  {
   "cell_type": "markdown",
   "id": "6ee08f25-8b97-4414-8793-999c9296c73f",
   "metadata": {},
   "source": [
    "# Crear directorio\n",
    "\n",
    "En este directorio se guardará el dataset obtenido."
   ]
  },
  {
   "cell_type": "code",
   "execution_count": null,
   "id": "355fc95a-7016-4a01-ada9-dadd0c63f1c5",
   "metadata": {},
   "outputs": [],
   "source": [
    "directory = \"dataset\"\n",
    "parent_dir = os.path.abspath(os.path.join(os.getcwd(), \"..\"))\n",
    "print(parent_dir)\n",
    "\n",
    "path = os.path.join(parent_dir, directory)\n",
    "\n",
    "try:\n",
    "    os.mkdir(path)\n",
    "    print(f\"Se ha creado el directorio {directory} en: {parent_dir}\")\n",
    "except OSError as error:\n",
    "    print(f\"El directorio {directory} en: {parent_dir} ya existe.\")"
   ]
  },
  {
   "cell_type": "markdown",
   "id": "085f6276-ece1-4e32-8d85-b001fb7cfe3c",
   "metadata": {},
   "source": [
    "# Obtención del dataset\n",
    "\n",
    "Es equivalente a lo siguiente: `$.result.results[0].resources[1].url`\n",
    "\n",
    "Donde `[1]` es para el csv y `[2]` para el json. Para trabajar con pandas prefiero el csv."
   ]
  },
  {
   "cell_type": "code",
   "execution_count": null,
   "id": "04b19e13-1def-4653-85b2-88d3039eed16",
   "metadata": {},
   "outputs": [],
   "source": [
    "header = {\"User-Agent\": \"Application\"}\n",
    "dataset = \"raw_dataset.csv\"\n",
    "csv_path = os.path.join(path, dataset)\n",
    "year = 2016\n",
    "\n",
    "while True:\n",
    "    url = f\"https://catalogodatos.cnmc.es/api/3/action/package_search?q=Precios%20diarios%20provinciales%20-%20{year}%20-\"\n",
    "    r = requests.get(url, headers=header)\n",
    "\n",
    "    if r.status_code == 200:\n",
    "        data_catalog = r.json()\n",
    "    \n",
    "        if data_catalog[\"result\"][\"results\"]:\n",
    "            id_resource = data_catalog[\"result\"][\"results\"][0][\"resources\"][1][\"url\"]\n",
    "            downloaded_file = requests.get(id_resource)\n",
    "    \n",
    "            with open(csv_path, \"ab\") as f:\n",
    "                f.write(downloaded_file.content)\n",
    "    \n",
    "            print(f\"Descargados los datos para el año {year}.\")\n",
    "            year += 1\n",
    "        else:\n",
    "            print(\"No hay más datos que descargar.\")\n",
    "            break\n",
    "    else:\n",
    "        print(f\"No ha podido procesarse la solicitud. Código: {r.status_code}\")\n",
    "        break"
   ]
  },
  {
   "cell_type": "markdown",
   "id": "9ac76c29-8fa9-4189-900d-84c01c020fe5",
   "metadata": {},
   "source": [
    "# Dataframe"
   ]
  },
  {
   "cell_type": "markdown",
   "id": "ca71340c-6dd1-46fd-ab54-d9a65e738f88",
   "metadata": {},
   "source": [
    "## Lectura y visualizado"
   ]
  },
  {
   "cell_type": "code",
   "execution_count": null,
   "id": "23407674-3f81-4b01-bc2d-76d9ad0499a4",
   "metadata": {},
   "outputs": [],
   "source": [
    "df_fuel = pd.read_csv(csv_path, delimiter=';')\n",
    "df_fuel.head()"
   ]
  },
  {
   "cell_type": "code",
   "execution_count": null,
   "id": "51a742c8-f5ab-4c2b-9168-6be9822db3d2",
   "metadata": {},
   "outputs": [],
   "source": [
    "rows, cols = df_fuel.shape\n",
    "print(f\"Filas: {rows} | Columnas: {cols}\")"
   ]
  },
  {
   "cell_type": "markdown",
   "id": "4d0b8dce-bdbf-4bab-b577-660889072794",
   "metadata": {},
   "source": [
    "## Comprobación de nulos y tipo de datos"
   ]
  },
  {
   "cell_type": "code",
   "execution_count": null,
   "id": "155422db-25e8-4e39-91c8-0d01c9d027ea",
   "metadata": {},
   "outputs": [],
   "source": [
    "df_fuel.isna().sum()"
   ]
  },
  {
   "cell_type": "markdown",
   "id": "863cd15c-57f8-4a56-b7d6-2d5c1cefd254",
   "metadata": {},
   "source": [
    "¡No hay nulos!"
   ]
  },
  {
   "cell_type": "code",
   "execution_count": null,
   "id": "3e9a5329-d016-4b04-bd36-f31479d59430",
   "metadata": {},
   "outputs": [],
   "source": [
    "df_fuel.dtypes"
   ]
  },
  {
   "cell_type": "markdown",
   "id": "1b93189d-d762-4f12-9e9b-4766cb0cf468",
   "metadata": {},
   "source": [
    "## Provincias\n",
    "\n",
    "Queremos saber qué provincias hay en el dataset:"
   ]
  },
  {
   "cell_type": "code",
   "execution_count": null,
   "id": "c4055099-3651-4d00-b827-b6e9dae23952",
   "metadata": {},
   "outputs": [],
   "source": [
    "df_fuel[\"Provincia\"].unique()"
   ]
  },
  {
   "cell_type": "markdown",
   "id": "a08033d7-ec17-4290-8886-82b1fd24a444",
   "metadata": {},
   "source": [
    "Aquí se usa LabelEncoder para pasar los valores categóricos de Provincia a numéricos, necesario para el entrenamiento del modelo:"
   ]
  },
  {
   "cell_type": "code",
   "execution_count": 32,
   "id": "6c7caf18-e6d5-4bb2-88f0-86b9a796c4b2",
   "metadata": {},
   "outputs": [],
   "source": [
    "df_fuel[\"num_provincia\"] = le.fit_transform(df_fuel[\"Provincia\"])"
   ]
  },
  {
   "cell_type": "code",
   "execution_count": null,
   "id": "5879f51c-816a-43c9-975f-56be7cc6ab64",
   "metadata": {},
   "outputs": [],
   "source": [
    "df_fuel.head()"
   ]
  },
  {
   "cell_type": "code",
   "execution_count": null,
   "id": "2d14d047-dfa3-48aa-9b8e-86a3ccddb194",
   "metadata": {},
   "outputs": [],
   "source": [
    "df_fuel[\"num_provincia\"].unique()"
   ]
  },
  {
   "cell_type": "code",
   "execution_count": null,
   "id": "ade19137-cd3f-4796-a32a-d873b6bdbb1b",
   "metadata": {},
   "outputs": [],
   "source": [
    "result = df_fuel.loc[df_fuel[\"num_provincia\"] == 38]\n",
    "result.head()"
   ]
  },
  {
   "cell_type": "markdown",
   "id": "bed4f2e0-81b8-4adb-8c5e-a3e88f721bc1",
   "metadata": {},
   "source": [
    "Puede parecer extraño pero esos valores se deben a que cuando se juntaron todos los archivos se añadió también la cabecera. Por lo tanto, las filas que sean de valor 38 las eliminamos."
   ]
  },
  {
   "cell_type": "code",
   "execution_count": 36,
   "id": "bbb73b92-40b0-471c-be6e-89e249db44e7",
   "metadata": {},
   "outputs": [],
   "source": [
    "df_fuel.drop(df_fuel[df_fuel[\"num_provincia\"] == 38].index, inplace = True)"
   ]
  },
  {
   "cell_type": "code",
   "execution_count": null,
   "id": "02d11ce3-7c1d-4099-87a1-0a3efe9ce676",
   "metadata": {},
   "outputs": [],
   "source": [
    "df_fuel[\"num_provincia\"].unique()"
   ]
  },
  {
   "cell_type": "markdown",
   "id": "8f085d04-23e0-4b7c-a798-31c8dccaf543",
   "metadata": {},
   "source": [
    "Se ha eliminado la etiqueta que sobra."
   ]
  },
  {
   "cell_type": "code",
   "execution_count": null,
   "id": "617834ef-f795-4dc1-9c51-559f8280490a",
   "metadata": {},
   "outputs": [],
   "source": [
    "print(le.classes_)"
   ]
  },
  {
   "cell_type": "markdown",
   "id": "99c0e5da-f3d3-4d7e-b08e-b478278802eb",
   "metadata": {},
   "source": [
    "## Producto"
   ]
  },
  {
   "cell_type": "markdown",
   "id": "e471a622-61dc-45f3-b548-5072e4463f90",
   "metadata": {},
   "source": [
    "De igual manera, hay que hacer lo mismo con Producto:  \n",
    "En este caso uso un mapeo."
   ]
  },
  {
   "cell_type": "code",
   "execution_count": 39,
   "id": "91f481cd-2a68-4731-8d10-487d8aed9b11",
   "metadata": {},
   "outputs": [],
   "source": [
    "df_fuel[\"num_producto\"] = df_fuel[\"Producto\"].map({\"Gasolina 95 E5\":0, \"Gasolina 98 E5\":1, \"Gasóleo A habitual\":2, \n",
    "                                               \"Gasóleo Premium\":3})"
   ]
  },
  {
   "cell_type": "code",
   "execution_count": null,
   "id": "9c176df0-3cfc-48a2-a346-2e721759123c",
   "metadata": {},
   "outputs": [],
   "source": [
    "df_fuel.head()"
   ]
  },
  {
   "cell_type": "code",
   "execution_count": null,
   "id": "a8871789-b270-4aa3-973b-363cfe1f705d",
   "metadata": {},
   "outputs": [],
   "source": [
    "df_fuel[\"num_producto\"].unique()"
   ]
  },
  {
   "cell_type": "markdown",
   "id": "9c53f0b1-dc68-4067-a8df-46017ce48943",
   "metadata": {},
   "source": [
    "## Fechas"
   ]
  },
  {
   "cell_type": "markdown",
   "id": "df582d36-dfff-4d86-b52e-4b2baafa5a18",
   "metadata": {},
   "source": [
    "Se divide la fecha en tres columnas: año, mes, día."
   ]
  },
  {
   "cell_type": "code",
   "execution_count": 42,
   "id": "317f191b-c580-4099-8b3b-fae87b604263",
   "metadata": {},
   "outputs": [],
   "source": [
    "df_fuel[\"Fecha Precio\"] = pd.to_datetime(df_fuel[\"Fecha Precio\"])"
   ]
  },
  {
   "cell_type": "code",
   "execution_count": 43,
   "id": "0e83d90b-873f-4557-b2fd-9b9a82d76cea",
   "metadata": {},
   "outputs": [],
   "source": [
    "df_fuel[\"anno\"] = df_fuel[\"Fecha Precio\"].dt.year\n",
    "df_fuel[\"mes\"] = df_fuel[\"Fecha Precio\"].dt.month\n",
    "df_fuel[\"dia\"] = df_fuel[\"Fecha Precio\"].dt.day"
   ]
  },
  {
   "cell_type": "code",
   "execution_count": null,
   "id": "c5a59fb2-4078-4057-9e02-97adb6e1c13b",
   "metadata": {},
   "outputs": [],
   "source": [
    "df_fuel.head()"
   ]
  },
  {
   "cell_type": "markdown",
   "id": "28f78b10-4a96-41d2-b76a-e3830eefa351",
   "metadata": {},
   "source": [
    "## Renombrado de columnas"
   ]
  },
  {
   "cell_type": "markdown",
   "id": "dfdeb0fe-35c4-4f87-8aae-b20c26ffe465",
   "metadata": {},
   "source": [
    "Nos quedamos solo con las columnas que nos interesan y renombramos algunas de ellas:"
   ]
  },
  {
   "cell_type": "code",
   "execution_count": 45,
   "id": "01d11d0b-82a5-4deb-b5f8-06337238a0ae",
   "metadata": {},
   "outputs": [],
   "source": [
    "df_fuel = df_fuel[[\"anno\",\"mes\",\"dia\",\"num_provincia\",\"num_producto\",\"Promedio de Pai Diario CUBO €/litro\",\"Promedio de Pvp Diario CUBO €/litro\"]]\n",
    "df_fuel.rename(columns={\"Promedio de Pai Diario CUBO €/litro\": \"promedio_de_pai_diario_cubo\", \"Promedio de Pvp Diario CUBO €/litro\": \"promedio_de_pvp_diario_cubo\"}, inplace = True)"
   ]
  },
  {
   "cell_type": "code",
   "execution_count": null,
   "id": "9b673a0e-bdd3-49c9-ad63-953917561ec2",
   "metadata": {},
   "outputs": [],
   "source": [
    "df_fuel.head()"
   ]
  },
  {
   "cell_type": "markdown",
   "id": "c31ff60e-2542-43f7-85c2-ac904d0d1327",
   "metadata": {},
   "source": [
    "## Pasar valores con comas a puntos"
   ]
  },
  {
   "cell_type": "code",
   "execution_count": 47,
   "id": "eb995ee9-b4f5-4816-ac33-5c31a94d131e",
   "metadata": {},
   "outputs": [],
   "source": [
    "df_fuel[\"promedio_de_pai_diario_cubo\"] = df_fuel[\"promedio_de_pai_diario_cubo\"].str.replace(',', '.').astype(float)\n",
    "df_fuel[\"promedio_de_pvp_diario_cubo\"] = df_fuel[\"promedio_de_pvp_diario_cubo\"].str.replace(',', '.').astype(float)"
   ]
  },
  {
   "cell_type": "code",
   "execution_count": null,
   "id": "7817d23d-5086-4fc3-896d-717ac3a984bf",
   "metadata": {},
   "outputs": [],
   "source": [
    "df_fuel.head()"
   ]
  },
  {
   "cell_type": "code",
   "execution_count": null,
   "id": "d899dcaf-c5d6-4f6b-8c38-8fe946d6b808",
   "metadata": {},
   "outputs": [],
   "source": [
    "df_fuel.dtypes"
   ]
  },
  {
   "cell_type": "markdown",
   "id": "406c78b7-3a85-4a1c-8bcb-6c60e4aecb9c",
   "metadata": {},
   "source": [
    "## Guardado del dataset transformado"
   ]
  },
  {
   "cell_type": "code",
   "execution_count": 50,
   "id": "65e0590a-5798-4be6-b854-71f76343c34d",
   "metadata": {},
   "outputs": [],
   "source": [
    "dataset = \"dataset.csv\"\n",
    "clean_csv_path = os.path.join(path, dataset)\n",
    "\n",
    "df_fuel.to_csv(clean_csv_path, index=False)"
   ]
  },
  {
   "cell_type": "markdown",
   "id": "c881fce3-e7dc-48bd-bef4-2c3539e2539f",
   "metadata": {},
   "source": [
    "# Entrenamiento"
   ]
  },
  {
   "cell_type": "markdown",
   "id": "87d25f43-d1eb-4a7b-afd7-9b1d99ab7a65",
   "metadata": {},
   "source": [
    "En caso de ser necesario (para no tener que arrancar todo lo anterior si cerramos el archivo) cargamos de nuevo el dataset:"
   ]
  },
  {
   "cell_type": "code",
   "execution_count": 51,
   "id": "19450e11-1d28-40b1-b329-404ee4557af6",
   "metadata": {},
   "outputs": [],
   "source": [
    "df_fuel = pd.read_csv(clean_csv_path)"
   ]
  },
  {
   "cell_type": "code",
   "execution_count": null,
   "id": "7ae73f4b-01f9-46c0-85db-58d86c9b4cf5",
   "metadata": {},
   "outputs": [],
   "source": [
    "df_fuel.head()"
   ]
  },
  {
   "cell_type": "markdown",
   "id": "6f017ae4-f508-455f-b98d-506d73b2e4d0",
   "metadata": {},
   "source": [
    "## Modelo de predicción sin impuestos (PAI):"
   ]
  },
  {
   "cell_type": "code",
   "execution_count": 53,
   "id": "58d3f37d-ef6e-44ef-bf2c-c3aed19d542d",
   "metadata": {},
   "outputs": [],
   "source": [
    "def train_pai():\n",
    "    X = df_fuel.drop([\"promedio_de_pai_diario_cubo\",\"promedio_de_pvp_diario_cubo\"], axis=1)\n",
    "    y = df_fuel[\"promedio_de_pai_diario_cubo\"]\n",
    "\n",
    "    X_train, X_test, y_train, y_test = train_test_split(X, y, test_size=0.2, random_state=42)\n",
    "\n",
    "    pai = DecisionTreeRegressor()\n",
    "    pai_model = pai.fit(X_train, y_train)\n",
    "    model_score = pai.score(X_test, y_test)\n",
    "\n",
    "    print(f\"La puntuación del modelo es de: {model_score} %\")\n",
    "\n",
    "    return pai_model"
   ]
  },
  {
   "cell_type": "code",
   "execution_count": null,
   "id": "cd2dc78b-4b33-42d9-996d-ed1cf15fe946",
   "metadata": {},
   "outputs": [],
   "source": [
    "pai_model = train_pai()"
   ]
  },
  {
   "cell_type": "markdown",
   "id": "d94126f4-3658-4a3b-95c6-d7b6610d77b4",
   "metadata": {},
   "source": [
    "## Modelo de predicción con impuestos (PVP):"
   ]
  },
  {
   "cell_type": "code",
   "execution_count": 55,
   "id": "a215def6-c6aa-426e-a7d1-63c4816bbded",
   "metadata": {},
   "outputs": [],
   "source": [
    "def train_pvp():\n",
    "    X = df_fuel.drop([\"promedio_de_pai_diario_cubo\",\"promedio_de_pvp_diario_cubo\"], axis=1)\n",
    "    y = df_fuel[\"promedio_de_pvp_diario_cubo\"]\n",
    "\n",
    "    X_train, X_test, y_train, y_test = train_test_split(X, y, test_size=0.2, random_state=42)\n",
    "\n",
    "    pvp = DecisionTreeRegressor()\n",
    "    pvp_model = pvp.fit(X_train, y_train)\n",
    "    model_score = pvp.score(X_test, y_test)\n",
    "\n",
    "    print(f\"La puntuación del modelo es de: {model_score} %\")\n",
    "\n",
    "    return pvp_model"
   ]
  },
  {
   "cell_type": "code",
   "execution_count": null,
   "id": "68cb31fd-e244-46ce-8be7-5f8a0a98e9b1",
   "metadata": {},
   "outputs": [],
   "source": [
    "pvp_model = train_pvp()"
   ]
  },
  {
   "cell_type": "markdown",
   "id": "05d4351a-4d74-439b-8b53-409fbec628a6",
   "metadata": {},
   "source": [
    "## Guardado de los modelos"
   ]
  },
  {
   "cell_type": "code",
   "execution_count": null,
   "id": "ae41822a-d400-40c6-90ce-f32fa7e3cc53",
   "metadata": {},
   "outputs": [],
   "source": [
    "directory = \"model\"\n",
    "parent_dir = os.path.abspath(os.path.join(os.getcwd(), \"..\"))\n",
    "\n",
    "path = os.path.join(parent_dir, directory)\n",
    "\n",
    "try:\n",
    "    os.mkdir(path)\n",
    "    print(f\"Se ha creado el directorio {directory} en: {parent_dir}\")\n",
    "except OSError as error:\n",
    "    print(f\"El directorio {directory} en: {parent_dir} ya existe.\")"
   ]
  },
  {
   "cell_type": "code",
   "execution_count": 59,
   "id": "1b8224e0-27bf-4597-9cdd-bb59833a3c17",
   "metadata": {},
   "outputs": [],
   "source": [
    "def save_model(model, filename):\n",
    "    directory = \"model\"\n",
    "    path = os.path.join(parent_dir, directory)\n",
    "    \n",
    "    save_file = os.path.join(path, filename)\n",
    "\n",
    "    with open(save_file, \"wb\") as f:\n",
    "        pickle.dump(model, f)"
   ]
  },
  {
   "cell_type": "code",
   "execution_count": 60,
   "id": "e779a98c-8de1-4a67-af50-61d9e2690090",
   "metadata": {},
   "outputs": [],
   "source": [
    "save_model(pai_model, \"pai_model.pkl\")"
   ]
  },
  {
   "cell_type": "code",
   "execution_count": 61,
   "id": "2be04258-b93a-4331-a59e-824c1cba04da",
   "metadata": {},
   "outputs": [],
   "source": [
    "save_model(pvp_model, \"pvp_model.pkl\")"
   ]
  },
  {
   "cell_type": "markdown",
   "id": "e9ca8a0a-145c-4489-9cb2-9a63010d5923",
   "metadata": {},
   "source": [
    "Ejemplo de carga de modelo:"
   ]
  },
  {
   "cell_type": "code",
   "execution_count": null,
   "id": "cb58c9a3-5b74-46a0-9727-03b05bf7fdae",
   "metadata": {},
   "outputs": [],
   "source": [
    "# with open('model.pkl', 'rb') as f:\n",
    "#     clf2 = pickle.load(f)\n",
    "\n",
    "# clf2.predict(X[0:1])"
   ]
  }
 ],
 "metadata": {
  "kernelspec": {
   "display_name": "Python 3 (ipykernel)",
   "language": "python",
   "name": "python3"
  },
  "language_info": {
   "codemirror_mode": {
    "name": "ipython",
    "version": 3
   },
   "file_extension": ".py",
   "mimetype": "text/x-python",
   "name": "python",
   "nbconvert_exporter": "python",
   "pygments_lexer": "ipython3",
   "version": "3.12.7"
  }
 },
 "nbformat": 4,
 "nbformat_minor": 5
}
